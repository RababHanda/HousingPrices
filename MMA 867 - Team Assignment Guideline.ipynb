{
 "cells": [
  {
   "cell_type": "markdown",
   "id": "6538f019",
   "metadata": {},
   "source": [
    "## MMA 867 Team Assignment: Predicting Housing Prices\n",
    "\n",
    "Team Istanbul"
   ]
  },
  {
   "cell_type": "code",
   "execution_count": null,
   "id": "266c08f4",
   "metadata": {},
   "outputs": [],
   "source": [
    "import os\n",
    "\n",
    "import pandas as pd\n",
    "import numpy as np\n",
    "\n",
    "import statsmodels.imputation.mice as mice\n",
    "import statsmodels.api as sm\n",
    "from statsmodels.formula.api import ols\n",
    "from statsmodels.stats.outliers_influence import variance_inflation_factor\n",
    "from statsmodels.stats.diagnostic import het_breuschpagan\n",
    "\n",
    "from sklearn.preprocessing import OneHotEncoder\n",
    "from sklearn.preprocessing import StandardScaler\n",
    "from sklearn.model_selection import train_test_split\n",
    "from sklearn.compose import ColumnTransformer\n",
    "from sklearn.pipeline import Pipeline\n",
    "from sklearn import linear_model\n",
    "from sklearn.metrics import mean_absolute_error, mean_squared_error\n",
    "\n",
    "from patsy import dmatrices \n",
    "import scipy.stats as stats\n",
    "\n",
    "import matplotlib.pyplot as plt\n",
    "import seaborn as sns"
   ]
  },
  {
   "cell_type": "code",
   "execution_count": null,
   "id": "26e9a7c1",
   "metadata": {},
   "outputs": [],
   "source": [
    "#Converting data source to dataframes\n",
    "file_path_test  = \"test.csv\"\n",
    "file_path_train = \"train.csv\"\n",
    "\n",
    "df_test  = pd.read_csv(file_path_test)\n",
    "df_train = pd.read_csv(file_path_train)"
   ]
  },
  {
   "cell_type": "code",
   "execution_count": null,
   "id": "f8e26b3a",
   "metadata": {},
   "outputs": [],
   "source": [
    "#Concatenating the two dataframes\n",
    "df_new_name = pd.concat([df_train, df_test], ignore_index=True)"
   ]
  },
  {
   "cell_type": "markdown",
   "id": "a72d8c90",
   "metadata": {},
   "source": [
    "### Guidelines"
   ]
  },
  {
   "cell_type": "markdown",
   "id": "d118d34e",
   "metadata": {},
   "source": [
    "<h6 style=\"color: blue;\">  \n",
    "<ul>\n",
    "  <li>Train dataset contains sales</li>\n",
    "  <li>Test dataset doesn't contain sales</li>\n",
    "</ul>\n",
    "</h6>\n",
    "\n",
    "1. Combine both datasets *(hint: use pd.concat)*\n",
    "2. Let all steps run as is in your version of the code, make sure to update the name of dataframe *(hint: use reeplace all feature in VS Code)*\n",
    "3. Right before running the model, separate the test and train dataset's data *(hint: df_train contains SalePrice, but df_test doesn't. There are other ways too)*\n",
    "4. Run the model for the **entire** train dataset\n",
    "5. Predict the sale price only for test dataset\n",
    "6. Save the predicted sales values as a csv file (wih only the ID and the Sale Price):\n",
    "```submission = pd.DataFrame({\n",
    "    \"Id\": test[\"Id\"],\n",
    "    \"SalePrice\": predictions\n",
    "})\n",
    "```\n",
    "\n",
    "```submission.to_csv(\"submission.csv\", index=False)```\n",
    "\n",
    "7. Upload your code file & csv file (with predicted output) to Kaggle and share the rank with the team."
   ]
  },
  {
   "cell_type": "markdown",
   "id": "700a6a0e",
   "metadata": {},
   "source": [
    "#### Reading your rank"
   ]
  },
  {
   "cell_type": "markdown",
   "id": "ebfd8813",
   "metadata": {},
   "source": [
    "| Rank         | Outcome       | Action                                                                 |\n",
    "|:--------------|:---------------|:------------------------------------------------------------------------|\n",
    "| <span style=\"color:green\">Over 20%</span>     | Excellent      | Finalize and submit this version of the code for the assignment.       |\n",
    "| <span style=\"color:#CCCC00\">21–30%</span>   | Good           | Review feature selection and tuning to further optimize performance.   |\n",
    "| <span style=\"color:orange\">31–40%</span>      | Okay           | Re-evaluate model parameters and feature engineering for improvements. |\n",
    "| <span style=\"color:red\">Below 40%</span>      | Unsatisfactory | Revisit EDA, improve feature engineering, and retrain the model.       |\n"
   ]
  },
  {
   "cell_type": "markdown",
   "id": "7e09d979",
   "metadata": {},
   "source": [
    "#### Proceed to the next step if your rank is unsatisfactory"
   ]
  },
  {
   "cell_type": "markdown",
   "id": "319233a4",
   "metadata": {},
   "source": [
    "1. Focus on EDA and feature engineering, revisit the code, make updates as you please.  \n",
    "2. Start by changing small parts of your code and check if your rank improves.  \n",
    "3. Avoid making too many big changes at once—your rank might get worse.   \n",
    "4. Tune your model's parameters to improve accuracy.   \n",
    "5. Keep track of what changes you make and how they affect your rank.  \n",
    "6. Re-submit when you're confident the changes improved your results.  "
   ]
  },
  {
   "cell_type": "markdown",
   "id": "d90894f2",
   "metadata": {},
   "source": [
    "#### Use of AI"
   ]
  },
  {
   "cell_type": "markdown",
   "id": "3d879505",
   "metadata": {},
   "source": [
    "1. Please align it with the rest of the code\n",
    "2. Do not use data science techniques that you cannot explain - if you cannot explain the logic behind the code (not what the code is doing - why you're using it) <b><span style=\"color:red\"> PLEASE DO NOT USE IT </span></b>"
   ]
  },
  {
   "cell_type": "markdown",
   "id": "6c4b020b",
   "metadata": {},
   "source": [
    "### Timeline"
   ]
  },
  {
   "cell_type": "markdown",
   "id": "9b313a7c",
   "metadata": {},
   "source": [
    "- **Sat Apr 19, 11:59 PM** – First submission (unchanged code files)  \n",
    "  _Please share your rankings with the team_\n",
    "\n",
    "- **Wed Apr 23, 10:00 PM** – Final submission (iterations of code update)  \n",
    "  _Please share your rankings with the team_\n",
    "\n",
    "- **Thu Apr 24, 9:00 PM** – Lead to Second\n",
    "\n",
    "- **Fri Apr 25, 6:00 PM** – Second to Team\n",
    "\n",
    "- **Fri Apr 25, 10:00 PM** – Submission\n",
    "\n"
   ]
  },
  {
   "cell_type": "markdown",
   "id": "37c9c76c",
   "metadata": {},
   "source": [
    "### Assignments"
   ]
  },
  {
   "cell_type": "markdown",
   "id": "e5fbb039",
   "metadata": {},
   "source": [
    "There are no subteams for this assignment. It is all individual work as we have already done most of the assignment. This will help you develop skills & play around with different techniques "
   ]
  },
  {
   "cell_type": "markdown",
   "id": "4a06a5df",
   "metadata": {},
   "source": [
    "<h6 style=\"color: blue;\">First Submission (unchanged code files)</h6>\n",
    "\n",
    "The lead & second from 803 have not been assigned this task in order to allow them additional time to focus on 803\n",
    "\n",
    "| Version | Member  |\n",
    "|:---------|:---------|\n",
    "| V1      | Omar    |\n",
    "| V2      | Sudip   |\n",
    "| V3      | Lillian |\n",
    "| V4      | Thorn   |\n",
    "\n",
    "Please upload your updated versions to the appropriate <a href=\"https://queensuca.sharepoint.com/:f:/r/teams/GROUP-MMA2026-Istanbul/Shared%20Documents/MMA%20867%20-%20Predictive%20Analytics/Team%20Assignment/First%20Submission?csf=1&web=1&e=MboMj4\">sharepoint directory</a>, using naming convention ```HousingPrices_Vx_Rx``` where Vx is the version and Rx is the ranking"
   ]
  },
  {
   "cell_type": "markdown",
   "id": "1ce782f7",
   "metadata": {},
   "source": [
    "<h6 style=\"color: blue;\">Version Assignment for Iterations</h6>\n",
    "\n",
    "| Member  | Version Assigned |\n",
    "|:---------|:------------------|\n",
    "| Jill    | V1               |\n",
    "| Omar    | V2               |\n",
    "| Lavanya | V3               |\n",
    "| Rabab   | V4               |\n",
    "| Sudip   | V1               |\n",
    "| Thorn   | V2               |\n",
    "| Lillian | V3               |\n",
    "\n",
    "- If your ranking improves, please upload your file to the appropriate <a href=\"https://queensuca.sharepoint.com/:f:/r/teams/GROUP-MMA2026-Istanbul/Shared%20Documents/MMA%20867%20-%20Predictive%20Analytics/Team%20Assignment/Ranking%20Improvements?csf=1&web=1&e=cGYlwt\">sharepoint directory</a>, using naming convention ```HousingPrices_XX_Rx``` where XX are your initials and Rx is the ranking.\n",
    "- If after a couple tries you feel you want to try a different version, please contact the lead and the second (so we can track the versions and edits)\n",
    "- As soon as anyone reaches top 20% ranking, we stop and use that as the final submission code file"
   ]
  },
  {
   "cell_type": "markdown",
   "id": "4373cb6f",
   "metadata": {},
   "source": [
    "<h1 span style=\"color:Green\"> Have fun! 🎉🎉 <br> Go ham on different techniques you always wanted to try!!</h1>\n",
    "\n",
    "When else will we get an opportunity where we've already done an assignment and have so much time available to experiment"
   ]
  },
  {
   "cell_type": "markdown",
   "id": "73fe17a8",
   "metadata": {},
   "source": [
    "### Next Steps"
   ]
  },
  {
   "cell_type": "markdown",
   "id": "e1386332",
   "metadata": {},
   "source": [
    "1. For the next meeting, have datasets ready that you would like to explore (please use Kaggle as it makes things easier)\n",
    "2. You can reuse the topics that were shared in MMA 860\n",
    "3. Please add your topics under your names along with the kaggle dataset link in this <a href=\"https://queensuca.sharepoint.com/:w:/r/teams/GROUP-MMA2026-Istanbul/_layouts/15/Doc.aspx?sourcedoc=%7Bb22a90d7-ee6d-4776-b242-3cd0f886afe6%7D&action=editnew\">word document </a>\n",
    "4. We will be doing a poll in the next meeting to pick the final topic"
   ]
  },
  {
   "cell_type": "code",
   "execution_count": null,
   "id": "c09c1ba8",
   "metadata": {},
   "outputs": [],
   "source": []
  }
 ],
 "metadata": {
  "kernelspec": {
   "display_name": "Python 3 (ipykernel)",
   "language": "python",
   "name": "python3"
  },
  "language_info": {
   "codemirror_mode": {
    "name": "ipython",
    "version": 3
   },
   "file_extension": ".py",
   "mimetype": "text/x-python",
   "name": "python",
   "nbconvert_exporter": "python",
   "pygments_lexer": "ipython3",
   "version": "3.9.7"
  }
 },
 "nbformat": 4,
 "nbformat_minor": 5
}
